{
 "cells": [
  {
   "cell_type": "code",
   "execution_count": 1,
   "metadata": {
    "collapsed": true
   },
   "outputs": [],
   "source": [
    "import csv\n",
    "import networkx\n",
    "import itertools\n",
    "from statistics import mean, mode\n",
    "import matplotlib.pyplot as plt"
   ]
  },
  {
   "cell_type": "code",
   "execution_count": 2,
   "metadata": {
    "collapsed": true
   },
   "outputs": [],
   "source": [
    "with open('casts.csv') as csvDataFile:\n",
    "    data = []\n",
    "    csvReader = csv.reader(csvDataFile, delimiter=';')\n",
    "    for row in csvReader:\n",
    "        data.append(row)"
   ]
  },
  {
   "cell_type": "code",
   "execution_count": 3,
   "metadata": {},
   "outputs": [
    {
     "data": {
      "text/plain": [
       "['Leslie Howard',\n",
       " 'Wendy Hiller',\n",
       " 'Wilfrid Lawson',\n",
       " 'Scott Sunderland',\n",
       " 'Marie Lohr',\n",
       " 'David Tree',\n",
       " 'Esme Percy',\n",
       " 'Everley Gregg',\n",
       " 'Jean Cadell',\n",
       " 'Lily Bouwmeester',\n",
       " 'Eduard Verkade',\n",
       " 'Johann deMeester',\n",
       " 'Jenny Ingo',\n",
       " 'Gustaf Grundgens']"
      ]
     },
     "execution_count": 3,
     "metadata": {},
     "output_type": "execute_result"
    }
   ],
   "source": [
    "dic_actors = {}\n",
    "g = networkx.Graph()\n",
    "for film in data:\n",
    "    g.add_node(film[2])\n",
    "    if film[1] not in dic_actors:\n",
    "        dic_actors[film[1]] = [film[2]]   \n",
    "    else:\n",
    "        dic_actors[film[1]].append(film[2])\n",
    "dic_actors['Pygmalion']"
   ]
  },
  {
   "cell_type": "code",
   "execution_count": 4,
   "metadata": {
    "collapsed": true
   },
   "outputs": [],
   "source": [
    "for film in dic_actors:\n",
    "    for a, b in itertools.combinations(dic_actors[film], 2):\n",
    "        g.add_edge(a, b)"
   ]
  },
  {
   "cell_type": "markdown",
   "metadata": {},
   "source": [
    "# Compute general statistics\n",
    "### Number of nodes/edges"
   ]
  },
  {
   "cell_type": "code",
   "execution_count": 5,
   "metadata": {},
   "outputs": [
    {
     "name": "stdout",
     "output_type": "stream",
     "text": [
      "Number of nodes:  16615\n",
      "Number of edges:  156042\n",
      "Density:  0.0011305686849167414\n",
      "Number of components:  637\n"
     ]
    }
   ],
   "source": [
    "nodes = g.number_of_nodes()\n",
    "edges =  g.number_of_edges()\n",
    "density = edges / (nodes * (nodes - 1) / 2)\n",
    "number_of_components = networkx.number_connected_components(g)\n",
    "print(\"Number of nodes: \", nodes)\n",
    "print(\"Number of edges: \", edges)\n",
    "print(\"Density: \", density)\n",
    "print(\"Number of components: \", number_of_components)"
   ]
  },
  {
   "cell_type": "code",
   "execution_count": 6,
   "metadata": {},
   "outputs": [
    {
     "name": "stdout",
     "output_type": "stream",
     "text": [
      "\n",
      " degree_centrality\n",
      "s a :  0.19934994582881907\n",
      "Humphrey Bogart :  0.025941976646201997\n",
      "James Stewart :  0.022511135187191524\n",
      "Gary Cooper :  0.022270374383050438\n",
      "John Gielgud :  0.022270374383050438\n",
      "John Carradine :  0.022089803779944624\n",
      "Peter Lorre :  0.021668472372697724\n",
      "C.Aubrey Smith :  0.02028409774888648\n",
      "Henry Fonda :  0.019622005537498495\n",
      "Burt Lancaster :  0.018779342723004695\n",
      "\n",
      " eigenvector_centrality\n",
      "s a :  0.32924414626843707\n",
      "C.Aubrey Smith :  0.08663264933518978\n",
      "John Carradine :  0.08522237742466378\n",
      "James Stewart :  0.08332764191436194\n",
      "John Gielgud :  0.08103633788469895\n",
      "Peter Lorre :  0.07850585718647131\n",
      "Gary Cooper :  0.07744182444301097\n",
      "Basil Rathbone :  0.07490069815853961\n",
      "Henry Fonda :  0.07489297835968156\n",
      "Humphrey Bogart :  0.07423477650463556\n"
     ]
    }
   ],
   "source": [
    "centr = [networkx.degree_centrality, networkx.eigenvector_centrality]\n",
    "for c in centr:\n",
    "    deg_centrality = c(g)\n",
    "    for actor, centrality_val in deg_centrality.items():\n",
    "        g.node[actor][c.__name__] = centrality_val\n",
    "\n",
    "    centrality_sort = sorted(deg_centrality.items(), key=lambda element: element[1], reverse=True)\n",
    "    print(\"\\n\",c.__name__)\n",
    "    for i in range(10):\n",
    "        print(centrality_sort[i][0], \": \", centrality_sort[i][1])    "
   ]
  },
  {
   "cell_type": "markdown",
   "metadata": {},
   "source": [
    "# Describe top clusters/communities"
   ]
  },
  {
   "cell_type": "code",
   "execution_count": 7,
   "metadata": {
    "collapsed": true
   },
   "outputs": [],
   "source": [
    "communities = {node:cid+1 for cid,community in enumerate(networkx.algorithms.community.k_clique_communities(g,10))\\\n",
    "               for node in community}"
   ]
  },
  {
   "cell_type": "code",
   "execution_count": 8,
   "metadata": {},
   "outputs": [
    {
     "name": "stdout",
     "output_type": "stream",
     "text": [
      "\n",
      "Actors in community:  33\n",
      "Lela Mourad\n",
      "Bruce Robinson\n",
      "Antionio Pierfrederici\n",
      "Natasha Peryy\n",
      "Sir Godrey Teale\n",
      "Esmeralda Ruspoli\n",
      "Harry Hilliard\n",
      "Maria Gasperini\n",
      "George A. Lessey\n",
      "Francesca Bertini\n",
      "John McEnery\n",
      "Mario Caserini\n",
      "Virginia Hammond\n",
      "Rosemarie Dexter\n",
      "Conway Tearle\n",
      "Roberto Bisacco\n",
      "Leonard Whiting\n",
      "Mary Malone\n",
      "Gustav Serena\n",
      "Julia M. Taylor\n",
      "Beverly Bane\n",
      "Gulio Garbinetti\n",
      "Ibrahim Hamouda\n",
      "Susan Shentall\n",
      "Enzo Fiermonte\n",
      "Bill Travers\n",
      "Florence Lawrence\n",
      "Meynier\n",
      "Paul Panzer\n",
      "Aldo Zollo\n",
      "Nietta Zocchi\n",
      "Paul Hardwick\n",
      "td> Claire Danes<\n",
      "\n",
      "Actors in community:  26\n",
      "Louis Armstrong\n",
      "George Baker\n",
      "Anouska Hempel\n",
      "Irvin Allen\n",
      "Steve Plytas\n",
      "Sylvana Henriques\n",
      "Ingri Black\n",
      "Dani Sheridan\n",
      "Bernard Horsfall\n",
      "Helena Ronee\n",
      "Julie Ege\n",
      "George Lazenby\n",
      "Terry Mountain\n",
      "Besie Love\n",
      "Jenny Hanley\n",
      "Ilse Steppat\n",
      "Geoffrey Cheshire\n",
      "Gabrielle Ferzetti\n",
      "Brian Worth\n",
      "Diana Rigg\n",
      "James Bree\n",
      "Mona Chong\n",
      "Zara\n",
      "Yuri Borienko\n",
      "Virginia North\n",
      "Catherina vonSchell\n",
      "\n",
      "Actors in community:  25\n",
      "Nelson Eddy\n",
      "Heather Sears\n",
      "J.Edward Bromberg\n",
      "Chester Concklin\n",
      "Lon Chaney\n",
      "Charles Dance\n",
      "Adam Storke\n",
      "Leo Carillo\n",
      "Martin Miller\n",
      "Fritz Leiber\n",
      "Norman Kerry\n",
      "A. Gibson Gowland\n",
      "Maximiliam Schell\n",
      "Edwin Carewe\n",
      "Thorley Walters\n",
      "Ian Wilson\n",
      "Edward deSouza\n",
      "Mary Philbin\n",
      "Susanna Foster\n",
      "John Harvey\n",
      "Teri Polo\n",
      "John Sainpolis\n",
      "Miriam Karlin\n",
      "Andrea Ferreo\n",
      "Jane Farrar\n",
      "\n",
      "Actors in community:  25\n",
      "Christian Bale\n",
      "Robert Newton\n",
      "Kate Winslet\n",
      "Robbie Coltrane\n",
      "Geraldine McEwen\n",
      "Nicholas Farrell\n",
      "Terence Morgan\n",
      "Christopher Ravenscroft\n",
      "Judy Parfitt\n",
      "Richard Briers\n",
      "Russell Thorndike\n",
      "Michael Maloney\n",
      "Simon Russell Beale\n",
      "George Robey\n",
      "Eileen Herlie\n",
      "Jonathan Field\n",
      "Richard Briars\n",
      "Janet Burnett\n",
      "Frederick Cooper\n",
      "Marianne Faithfull\n",
      "Richard Easton\n",
      "ReneГ© Asherson\n",
      "Roy Emerton\n",
      "Mark Dignam\n",
      "Michael Pennington\n",
      "\n",
      "Actors in community:  25\n",
      "Geena Davis\n",
      "Dustin Hoffman\n",
      "Andy Garcia\n",
      "Omar Sharif\n",
      "Stephen Tobolowsky\n",
      "Kevin J OConnor\n",
      "Lucy Gutteridge\n",
      "Eddie Tagee\n",
      "Val Kilmer\n",
      "Margery Jane Ross\n",
      "John Shard\n",
      "Warren Berlin\n",
      "Billy J. Mitchell\n",
      "Dimitri Andreas\n",
      "Christian Clemenson\n",
      "Cadie Huffman\n",
      "Sydney Arnold\n",
      "Maury Chaykin\n",
      "Dan Healy\n",
      "Christopher Villiers\n",
      "Susie Cusack\n",
      "Richard Mayes\n",
      "Burton Zucker\n",
      "Tom Arnold\n",
      "Warner Clark\n",
      "\n",
      "Actors in community:  25\n",
      "Paul Lambert\n",
      "Steven Berkoff\n",
      "Polly Bergen\n",
      "Geoffrey Toonen\n",
      "Leslie Hope\n",
      "William Doherty\n",
      "Joachim Hauser\n",
      "Michael Anthony\n",
      "Donald Stewart\n",
      "Kenneth Colley\n",
      "Barry Moore\n",
      "Hart Bochner\n",
      "Natalie Nogulich\n",
      "Bill Wallis\n",
      "Michael Wolf\n",
      "William Bergen\n",
      "H.Richard Greene\n",
      "Jane Seymour\n",
      "Dan Collier\n",
      "Topol\n",
      "Michael Melling\n",
      "John Malcolm\n",
      "Plett Creighton\n",
      "Harold Kaskel\n",
      "Ian Jenble\n",
      "\n",
      "Actors in community:  24\n",
      "Peter Fonda\n",
      "Jim Lewis\n",
      "Bob Tessier\n",
      "Rick Aviles\n",
      "Lois Areno\n",
      "Hal Carter\n",
      "Jimmy \"The Greek\" Snyder\n",
      "Norman Grabowski\n",
      "Brock Yates\n",
      "Richard Losey\n",
      "Adrienne Barbeau\n",
      "Farrah Fawcett\n",
      "Janet Woytak\n",
      "Tara Buckman\n",
      "Michael Hui\n",
      "Mel Tillis\n",
      "Jackie Chan\n",
      "Bert Convy\n",
      "Warren Berlinger\n",
      "Dudley Remus\n",
      "Molly Picon\n",
      "Terry Bradshaw\n",
      "Joe Klecko\n",
      "George Furth\n",
      "\n",
      "Actors in community:  23\n",
      "Sol Lomita\n",
      "Robert Berger\n",
      "John Morton Blum\n",
      "Stanley Swerdlow\n",
      "Ellen Garrison\n",
      "Marvin Chatinover\n",
      "John Buckwalter\n",
      "Deborah Rush\n",
      "Erma Campbell\n",
      "Bricktop\n",
      "Bernice Dowis\n",
      "Patrick Horgan\n",
      "Howard Erskine\n",
      "Saul Bellow\n",
      "Paul Nevens\n",
      "Stephanie Farrow\n",
      "Susan Sonntag\n",
      "George Hamlin\n",
      "Mary Louise Wilson\n",
      "Will Holt\n",
      "Ken Chapin\n",
      "Irving Howe\n",
      "Bruno Bettelheim\n",
      "\n",
      "Actors in community:  22\n",
      "Lucien Littlefield\n",
      "Laura LaPlante\n",
      "Douglass Montgomery\n",
      "Elizabeth Patterson\n",
      "Olivia Hussey\n",
      "John Beal\n",
      "Bob Hope\n",
      "Daniel Massey\n",
      "Creighton Hale\n",
      "Paulette Goddard\n",
      "Wendy Hiller\n",
      "Peter McEnery\n",
      "Gale Sondergaard\n",
      "Edward Fox\n",
      "Wilfrid HydeWhite\n",
      "Flora Finch\n",
      "Beatrix Lehman\n",
      "Gertrude Astor\n",
      "Michael Callan\n",
      "Arthur Carewe\n",
      "Carol Linley\n",
      "Forrest Stanley\n",
      "\n",
      "Actors in community:  21\n",
      "Ted Healy\n",
      "Una Merkel\n",
      "Dennis Hopper\n",
      "sa\n",
      "Glenn Plummer\n",
      "Keanu Reeves\n",
      "Alan Ruck\n",
      "Joe Morton\n",
      "John Kennedy\n",
      "Lyndon Johnson\n",
      "De Laete\n",
      "Sandra Bullock\n",
      "CeCe Tsou\n",
      "Weldon Heyburn\n",
      "Mona Berrie\n",
      "Beth Grant\n",
      "Carlos Carrasco\n",
      "David Kriegel\n",
      "Natsuko Ohama\n",
      "Hawthorne James\n",
      "Richard Linebak\n"
     ]
    }
   ],
   "source": [
    "communities_actors = {}\n",
    "for key, val in communities.items():\n",
    "    if val not in communities_actors:\n",
    "        communities_actors[val] = []\n",
    "    communities_actors[val].append(key)\n",
    "community_sorted = sorted(communities_actors.items(), key=lambda element: len(element[1]), reverse=True)\n",
    "for i in range(10):\n",
    "    print(\"\\nActors in community: \", len(community_sorted[i][1]))\n",
    "    print(\"\\n\".join(community_sorted[i][1]))"
   ]
  },
  {
   "cell_type": "markdown",
   "metadata": {},
   "source": [
    "# Describe „Kevin Bacon“ numbers"
   ]
  },
  {
   "cell_type": "code",
   "execution_count": 9,
   "metadata": {
    "collapsed": true
   },
   "outputs": [],
   "source": [
    "def KB_numbers(actor):\n",
    "    length_list = []\n",
    "    print(actor)\n",
    "    shortest_path = networkx.single_source_shortest_path_length(g, actor)\n",
    "    attr_name = actor.split(\" \")[1] + \"_number\"\n",
    "    for actor in g.nodes():\n",
    "        g.node[actor][attr_name] = -1\n",
    "    for actor, length in shortest_path.items():\n",
    "        g.node[actor][attr_name] = length\n",
    "        length_list.append(length)\n",
    "    print(\"Top actors with the highest number\")\n",
    "    for items in list(shortest_path.items())[1:11]:\n",
    "        print(items)\n",
    "    print(\"Top actors with the lowest number\")\n",
    "    for items in list(shortest_path.items())[-10:]:\n",
    "        print(items)\n",
    "    print(\"Mean: \", mean(length_list))\n",
    "    print(\"Mode: \", mode(length_list), '\\n')"
   ]
  },
  {
   "cell_type": "code",
   "execution_count": 10,
   "metadata": {},
   "outputs": [
    {
     "name": "stdout",
     "output_type": "stream",
     "text": [
      "Jack Nicholson\n",
      "Top actors with the highest number\n",
      "('Marlon Brando', 1)\n",
      "('Randy Quaid', 1)\n",
      "('Kathleen Lloyd', 1)\n",
      "('Frederic Forrest', 1)\n",
      "('Harry Dean Stanton', 1)\n",
      "('John McLiam', 1)\n",
      "('Karen Black', 1)\n",
      "('Karen Anspach', 1)\n",
      "('Lorna Thayer', 1)\n",
      "('Billy \"Green\" Bush', 1)\n",
      "Top actors with the lowest number\n",
      "('Cecilia Roth', 5)\n",
      "('Leonor Benedetto', 5)\n",
      "('Silvia Pal', 5)\n",
      "('Haren Chatterjee', 5)\n",
      "('Haradhan Banerjee', 5)\n",
      "('Paredes', 5)\n",
      "('Antonia SanJuan', 5)\n",
      "('Elisa Touati', 5)\n",
      "('Marbel Verdu', 5)\n",
      "('Maria deMederios', 5)\n",
      "Mean:  2.579803478953658\n",
      "Mode:  3 \n",
      "\n",
      "Humphrey Bogart\n",
      "Top actors with the highest number\n",
      "('Leslie Howard', 1)\n",
      "('Bette Davis', 1)\n",
      "('Genevieve Tobin', 1)\n",
      "('Dick Foran', 1)\n",
      "('Joe Sawyer', 1)\n",
      "('Porter Hall', 1)\n",
      "('Charley Grapewin', 1)\n",
      "('Paul Harvey', 1)\n",
      "('s a', 1)\n",
      "('Erin OBrienMoore', 1)\n",
      "Top actors with the lowest number\n",
      "('Haradhan Banerjee', 5)\n",
      "('Robert Castle', 5)\n",
      "('Barbara Dennek', 5)\n",
      "('Jacqueline Lecomte', 5)\n",
      "('Henri Piccoli', 5)\n",
      "('Paredes', 6)\n",
      "('Antonia SanJuan', 6)\n",
      "('Elisa Touati', 6)\n",
      "('Marbel Verdu', 6)\n",
      "('Maria deMederios', 6)\n",
      "Mean:  2.494356659142212\n",
      "Mode:  2 \n",
      "\n"
     ]
    }
   ],
   "source": [
    "actors = ['Jack Nicholson', 'Humphrey Bogart']\n",
    "for actor in actors:\n",
    "    KB_numbers(actor)"
   ]
  },
  {
   "cell_type": "markdown",
   "metadata": {},
   "source": [
    "* Every node represented by an actor name and all calculated attributes."
   ]
  },
  {
   "cell_type": "code",
   "execution_count": 11,
   "metadata": {},
   "outputs": [
    {
     "data": {
      "text/plain": [
       "('Leslie Howard',\n",
       " {'Bogart_number': 1,\n",
       "  'Nicholson_number': 2,\n",
       "  'degree_centrality': 0.008727579150114361,\n",
       "  'eigenvector_centrality': 0.039725355713338094})"
      ]
     },
     "execution_count": 11,
     "metadata": {},
     "output_type": "execute_result"
    }
   ],
   "source": [
    "list(g.node.items())[0]"
   ]
  },
  {
   "cell_type": "code",
   "execution_count": 12,
   "metadata": {
    "collapsed": true
   },
   "outputs": [],
   "source": [
    "networkx.write_gexf(g, \"g_full.gexf\")"
   ]
  },
  {
   "cell_type": "markdown",
   "metadata": {},
   "source": [
    "## Visualisations from networkx.\n",
    "* A graph which represents films with 3 actors."
   ]
  },
  {
   "cell_type": "code",
   "execution_count": null,
   "metadata": {
    "collapsed": true
   },
   "outputs": [],
   "source": [
    "short_dic = {}\n",
    "g_short = networkx.Graph()\n",
    "for film in data:\n",
    "    g.add_node(film[2])\n",
    "for item in dic_actors.items():\n",
    "    if len(item[1]) == 3:\n",
    "        short_dic[item[0]] = item[1]\n",
    "for film in short_dic:\n",
    "    for a, b in itertools.combinations(short_dic[film], 2):\n",
    "        g_short.add_edge(a, b)"
   ]
  },
  {
   "cell_type": "code",
   "execution_count": null,
   "metadata": {
    "collapsed": true
   },
   "outputs": [],
   "source": [
    "plt.clf()\n",
    "networkx.draw_networkx(g_short, with_labels= True, node_size= 20, font_size = 5)\n",
    "plt.savefig(\"graph_short.png\", dpi=1000)"
   ]
  },
  {
   "cell_type": "code",
   "execution_count": null,
   "metadata": {
    "collapsed": true
   },
   "outputs": [],
   "source": []
  }
 ],
 "metadata": {
  "kernelspec": {
   "display_name": "Python 3",
   "language": "python",
   "name": "python3"
  },
  "language_info": {
   "codemirror_mode": {
    "name": "ipython",
    "version": 3
   },
   "file_extension": ".py",
   "mimetype": "text/x-python",
   "name": "python",
   "nbconvert_exporter": "python",
   "pygments_lexer": "ipython3",
   "version": "3.6.2"
  }
 },
 "nbformat": 4,
 "nbformat_minor": 2
}
