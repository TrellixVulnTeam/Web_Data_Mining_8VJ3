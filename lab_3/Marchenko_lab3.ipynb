{
 "cells": [
  {
   "cell_type": "code",
   "execution_count": 1,
   "metadata": {
    "collapsed": true
   },
   "outputs": [],
   "source": [
    "import wikipedia\n",
    "import nltk\n",
    "import collections\n",
    "import sys"
   ]
  },
  {
   "cell_type": "code",
   "execution_count": 2,
   "metadata": {
    "collapsed": true
   },
   "outputs": [],
   "source": [
    "# http://english-e-reader.net/book/the-call-of-the-wild-jack-london"
   ]
  },
  {
   "cell_type": "code",
   "execution_count": 3,
   "metadata": {
    "collapsed": true
   },
   "outputs": [],
   "source": [
    "with open('The_Call_of_the_Wild-Jack_London.txt', 'r') as f:\n",
    "    text = f.read()   "
   ]
  },
  {
   "cell_type": "code",
   "execution_count": 4,
   "metadata": {
    "collapsed": true
   },
   "outputs": [],
   "source": [
    "#Preparation of the text. Delete tabs and line breaks.\n",
    "text_clear = text.replace('\\n', ' ').replace('\\t', '').replace('\\\\', '')"
   ]
  },
  {
   "cell_type": "code",
   "execution_count": 5,
   "metadata": {},
   "outputs": [
    {
     "name": "stdout",
     "output_type": "stream",
     "text": [
      "CHAPTER ONE  The Southland  Buck did not read the newspapers. He did not know that there was trouble for every big, strong dog in California. Men found a yellow metal called gold in the Klondike. They needed big, strong dogs with furry coats to work in the north.  Buck lived in a big house in the sunny Santa Clara Valley. The house was called Judge Miller's Place. Around the house there were big gardens, fruit trees and horses.  Buck was born here and now he was four years old. There were other dogs too, but they were not important. Buck was the king! Judge Miller's Place was his. He swam and hunted with the Judge's sons. He walked with the Judge's daughters. He carried the Judge's grandsons on his back and played with them. In the winter Buck sat at the Judge's feet in front of the fire.  Buck's father was a big St Bernard and his mother was a Scottish sheepdog. Buck weighed one hundred and forty pounds arid he was a happy and handsome dog.  In the fall of 1897 men from all over the world went to the Klondike. They wanted to find gold. But Buck did not read the newspapers.  Manuel was the gardener's helper, and he needed money for his big family. One evening the Judge was out of the house and Manuel and Buck went for a walk. No one saw them leave and only one man saw them at the railway station. The man talked to Manuel and gave him some money. Then Manuel tied a rope around Buck's neck. Buck let Manuel put the rope around his neck because he was his friend. But when the other man pulled the rope Buck could not breathe. He was angry and he jumped at the man. The man caught him and suddenly Buck was on his back. His tongue was out of his mouth and he was unable to move. In the past no one ever did this to him.  The two men put him on the train in the baggage car. When Buck woke up the train was moving. He was angry. The man watched him but Buck was too quick. He bit the man's hand.  That evening the man took Buck to the backroom of a saloon in San Francisco. The saloon-keeper looked at his hand.  \"I only got fifty dollars for it' the man said.  \"How much did the other man get?\" the saloon-keeper asked.  \"A hundred dollars.\"  \"That makes a hundred and fifty. That's a good price for a dog like him. Come on, help me put him into the crate.\"  Buck tried to attack the two men, but they pulled the rope again and again. Buck suffered terribly. His neck, throat and tongue hurt a lot. The men took off the rope and threw him into a crate.  Buck spent the night in the backroom of the saloon. He was very angry. He could not understand why he was there. What did these strange men want? Why was he a prisoner in a crate? Where was the Judge?  The next morning four men took the crate to the railway station. They put it on a train that was going to the north. For two days and two nights Buck did not eat or drink. He was confused and angry. Men on the train laughed at him. He threw himself against the crate. He growled and barked at the men.  Buck was very thirsty but he had no water. His tongue and throat were very dry. His eyes were red and his anger grew.  He was glad for one thing: the rope was off his neck. He did not want another rope around his neck.      CHAPTER TWO  The Northland  In Seattle four men carried the crate to a garden with a high wall. A fat man with a red sweater looked at him.  Buck threw himself against the crate. He growled and barked. The man brought a hatchet and a club.  \"Are you going to take him out now?\" asked one of the men.  \"Sure,\" the man said. He hit the crate with a hatchet to open it.  The four men ran away. They went to sit on the high wall to watch the show.  Buck threw himself against the wood of the crate. He bit it and growled. He wanted to get out. The man with the hatchet opened the crate. Then he put down the hatchet and took the club.  Buck was really a red-eyed devil. His hair stood up and his eyes were red with anger. He jumped straight at the man and his mouth was ready to bite. At that moment the man hit him with the club. He fell to the ground on his back.  This was the first time he was hit with a club. He did not understand. He jumped at the man again. And again the man hit him with the club. He fell to the ground again. This time Buck knew that it was the club. But his anger was so great that he did not stop. He jumped at the man a dozen times. And a dozen times the club hit him. There was blood on his nose, mouth and ears. Then the man hit him very hard on the nose. The pain was terrible. It was agony. Buck jumped at the man again and the man threw him to the ground. Buck did not move for some time.  \"He knows how to teach a dog a lesson,\" said one of the four men. Then they returned to the train station. Buck slowly opened his eyes. He could not move. He watched the man in the red sweater.  The fat man was reading the saloon-keeper's letter and said, \"Your name is Buck. Well, Buck,\" he said in a friendly voice, \"now you know your place. Be a good dog and we will be friends. Be a bad dog and I must use my club again. Understand?\"  As he spoke he touched Buck's head. Buck was angry inside but he did not move. When the man brought him water and meat, Buck drank and ate.  He learned that a man with a club was stronger than him. He never forgot it. Life was now fiercer.  Each day other dogs came. The man in the red sweater hit many dogs. Buck understood that a dog must obey a man with a club: he was a master. One dog did not obey and he was killed.  Men often came to talk to the man in the red sweater. When they paid money the men took one or more of the dogs. Those dogs never came back. \"Where did they go?\" Buck thought. He was afraid of the future.  One day a short man came to look at Buck. The man spoke bad English.  \"That's a strong dog! How much?\"  \"Three hundred dollars,\" said the man in the red sweater. \"And it's a gift at that price.\"  Perrault smiled. The price of dogs was high at that time. Perrault knew dogs and he knew Buck was an excellent dog.  Buck saw money pass between the two men. He was not surprised when he and a Newfoundland dog called Curly were taken away by the small man. He took them to a ship called the Narwhal. From the ship he and Curly looked back at Seattle. It was the last time they saw the warm Southland.  Perrault took Buck and Curly to Francois. Perrault was a French-Canadian, but Francois was half-Indian and had very dark skin. Buck did not like these men but he respected them. He learned that Perrault and Francois were calm and fair. They knew everything about dogs.  There were two other dogs on the ship. One was a big white dog called Spitz. He seemed friendly but he was not honest. He smiled when he tried to take Buck's food. Francois was fast and hit Spitz. From this moment Buck began to like him.  The other dog was called Dave. He was unfriendly and always wanted to be alone. Dave ate and slept and was interested in nothing.  Day and night the ship sailed. Every day was the same, but Buck noticed that the weather was colder.  Finally one morning the Narwhal's engines stopped. Buck and the other dogs were excited. Something was happening. Francois leashed the dogs and took them outside. At the first step \"Buck's feet went down into something white and soft. He jumped back. More of this white stuff was falling from the sky and fell on Buck. He shook himself but more fell on him. He smelled it curiously, then tasted some on his tongue. It was like fire and the next moment it disappeared. This confused him. He tried it again with the same result.  People looked at him and laughed. It was his first snow.    CHAPTER THREE  The Law of Club and Tana  Buck's first day at Dyea Beach was terrible. What a change from his comfortable, happy life with the Judge in the sunny Southland! Here there was no peace or rest. There was only confusion and noise. There was danger everywhere because these dogs and men were not city dogs and men. They only knew the law of club and fang.  Buck never saw dogs like these. They fought like wolves. He learned this by watching Curly. She wanted to make friends with a husky. The husky jumped on Curly and he tore her face from eye to mouth.  Wolves and huskies fight like this. They attack and then jump away. But this fight was not finished. Thirty or forty huskies came and made a circle around the fight. Curly attacked her enemy but the husky bit her again. She fell to the ground and never stood up again. The other huskies moved in and suddenly she was under them.  Buck saw Spitz run away with his red tongue out of his mouth. He was laughing. Curly was dead in the snow. Her body was almost in pieces. Buck often saw this scene in his dreams. He understood that when a dog was injured, that was the end. Spitz laughed again and from that moment Buck hated him.  Soon Buck had another surprise. Francois put a harness on him. Buck remembered the harnesses on horses at home. So now he must work like a horse. He must pull the sled to the forest to get firewood. He was offended, but he decided to work and do his best. He worked with Spitz and Dave, and learned a lot from them. He learned to stop when Francois said \"ho\", and to go when he said \"mush\".  \"Those three are very good dogs,\" Francois told Perrault. \"Buck pulls well and learns quickly.\"  That afternoon Perrault bought two huskies called Billee and Joe. They were brothers. Billee was very friendly but Joe was the opposite. In the evening, Perrault bought another dog called Solleks. He was an old husky with only one eye. He made no friends and wanted to be alone.  That night Buck had another problem. Where could he sleep? Francois and Perrault were in their tent. When Buck tried to enter they shouted angrily at him. It was terribly cold and windy outside.  He tried to sleep in the snow. But it was too cold. Buck walked sadly around the tent. He looked for the other dogs but he could not find them. Where were they? Buck was very cold and unhappy. He did not know what to do.  Suddenly he fell into a hole. He felt something move and then heard a friendly bark. Under the snow, in the warm hole he saw Billee. Billee licked Buck's face with his warm, wet tongue.  Another lesson. So that was how the dogs slept. Buck chose a place and made a hole. In a minute he was warm and asleep. He slept well but had bad dreams.  The noises of the camp woke him up the next morning.  \"What did I say,\" Francois shouted to Perrault. \"That Buck learns quickly.\"  Perrault smiled. He was a courier for the Canadian Government. He transported important documents and he needed the best dogs. He bought three dogs that morning. Now there were nine dogs in a harness and they were going up the Dyea Canyon.  The work was hard but Buck liked it. He was surprised that Dave and Solleks were not bored now. Pulling in a harness was their job and they were happy. All the dogs were alert and active.  Billee was the sled dog. He was nearest to the sled. Dave was in front of him. Then there was Buck. In front of them were the other dogs. Spitz was the leader in front. Dave and Solleks were Buck's teachers. When Buck pulled the wrong way Dave always bit his leg lightly. Buck learned quickly.  It was a hard journey up the canyon, through Sheep Camp and into the mountains. That night they camped at Lake Bennett. Thousands of gold miners were there. Buck made his hole in the snow and slept well.  Very early the next morning Buck and his team started pulling the sled again. That day they traveled forty miles on a good trail. But the next day there was no trail. The dogs worked harder and they traveled slowly.  Perrault usually went in front of the dogs. With his snowshoes he made the snow flat. Francois guided the sled from behind. Perrault was in a hurry. He knew all about ice and this was very important. In the fall the ice was very thin.  Day after day Buck worked hard and pulled the sled. The dogs started before it was light and stopped in the evening after dark. They ate a piece of fish and went to sleep. Buck was always hungry. Everyday he ate a pound and a half of fish. But it was never enough. One day he saw another dog called Pike steal meat from Perrault. Buck did the same the next day and no one saw him.  Buck was learning to live in the hostile Northland. In the Southland he never stole but he was never hungry. In the Southland there was the law of love and friendship. The man with the red sweater taught him the law of club and fang.  He learned to eat all kinds of food. He learned to fight and became very clever. He became stronger and more primitive. The natural forces inside of him became alive. It was easy for Buck to fight like a wolf because it was in his blood. At night he looked at a star and howled, like his ancestors did long ago. Buck was following his instinct.      CHAPTER FOUR  The Attack  The primitive spirit of his ancestors was strong in Buck. And under the harsh conditions of is new life this spirit grew. He hated Spitz more and more, but he did not want to start a fight. Buck was careful, he did nothing without thinking.  Spitz always showed his teeth to Buck. He wanted to start a fight. Buck knew that a fight meant the death of one or the other.  One night the fight almost happened. They stopped at Lake Laberge. It was snowing heavily and the wind was strong and cold. Perrault and Francois made a fire on the ice.  Buck made a hole in the snow. It was warm and comfortable. He did not want to leave it to get his piece of fish. When Buck finished eating the fish he went back to his hole and found Spitz in it.  Buck did not want to fight with Spitz but this was too much. He jumped on Spitz with great anger. Spitz was very surprised. He knew Buck was big, but he did not know he was so wild. Francois was surprised too.  \"A-a-ah!\" he cried to Buck. \"Give it to him! Give it to him!\"  Both dogs wanted to fight. They circled each other and waited for a chance to jump in.  Suddenly Perrault shouted and they saw about a hundred thin, hungry dogs. They came from an Indian village and they were looking for food. Perrault and Francois hit them with their clubs but the hungry dogs showed their teeth and attacked. One dog found the food box and in a moment twenty dogs ate the bread and the meat. The smell of food made them crazy.  The dogs looked like skeletons with wild eyes and sharp fangs. Three of them attacked Buck and bit his head and shoulders. Dave and Solleks fought courageously side by side. Joe attacked the dogs too.  Buck bit a dog in the neck and tasted its blood. The taste of blood made him fiercer. He jumped on another dog and then felt teeth in his own neck. Spitz was attacking him from the side.  Perrault and Francois came with clubs to help their dogs. The hungry dogs ran away, but only for a moment. When the two men ran back to save their food, the dogs attacked again. The terrible fight continued.  Later the nine team-dogs ran away and hid in the forest. They passed the night there. Each dog was hurt in four or five places and Joe lost his eye.  Early the next morning they slowly walked back to camp. Perrault and Francois were angry. Half of their food was gone and one dog ate Perrault's shoe.  Francois looked at the poor dogs and said, \"Ah, my friends, perhaps those bites will make you crazy dogs. What do you think, Perrault?\"  Perrault said nothing. There were four hundred miles between him and Dawson. He hoped his dogs were not crazy!  After two hours of hard work the team started traveling. The next part of the trail was the most difficult.  The Thirty Mile River was not frozen because the water moved too quickly. It took six days to travel those terrible thirty miles. They were terrible because every step was dangerous for the dogs and the men.  They found twelve ice bridges across the river. And Perrault fell through all of them! His long stick saved him. The temperature was 50 В°F below zero. Each time Perrault fell into the icy water he built a fire to dry and warm himself.  Perrault was not afraid of anything. This is why he was a government courier. He was often in danger. Once the sled with Buck and Dave fell through the ice. When Perrault and Francois pulled them out of the river they were covered with ice. The men built a fire to save the dogs.  When they arrived in Hootalinqua, Buck and the other dogs were exhausted. However, they were late and Perrault made them run faster. In three days they traveled one hundred and ten miles and reached a place called Five Fingers.  Buck's feet were not as hard as the feet of the huskies. His feet were still soft because of his comfortable life with the Judge. His feet hurt a lot all day. That night at the camp he lay down like a dead dog. He was hungry but he could not walk to get his fish. So Francois brought it to him. Every evening after dinner Francois massaged Buck's feet for half an hour. He made four little shoes for Buck. Now Buck was more comfortable. One morning Francois forgot the shoes and Buck lay on his back with his feet in the air. He did not want to move without his shoes. Later his feet grew hard and the shoes were not necessary.    CHAPTER FIVE  The Big Fight  At Pelly River one morning Dolly suddenly went crazy. She howled like a wolf and then jumped at Buck. Buck knew this was something terrible and ran away. Dolly was behind him. Buck was afraid. He ran as fast as he could through the woods, across the ice and back to the river. Dolly was one step behind him. Buck could hear her growling angrily.  \"Buck! Buck!\" Francois called.  \"Francois can save me' Buck thought and ran to him.  Francois had an axe ready in his hand. As Buck ran past him the axe fell down on Dolly's head.  Buck lay down near the sled. He was exhausted. This was Spitz's opportunity. He jumped at Buck and bit him very hard. Francois saw this and hit Spitz.  \"That Spitz is a devil' said Perrault. \"Some day he will kill Buck.\"  \"Buck is like two devils. I know this for sure. Some day Buck will get very angry and eat up Spitz' Francois said.  From then on it was war between Spitz and Buck. Spitz was the lead-dog and master of the team. Buck wanted to be the lead-dog. It was part of his nature. Spitz knew this and hated him. Buck was dangerous because he was strong, clever and patient.  When the dogs made mistakes Buck protected them from Spitz. One morning Pike did not want to get up and Spitz looked for him everywhere. When he found Pike he jumped at him but Buck suddenly attacked Spitz. Francois whipped Buck with all his strength. This did not stop Buck. Francois whipped him again and again. The other dogs saw this and it became difficult for Spitz to lead them.  Day after day Buck protected the other dogs from Spitz. Buck did it \"secretly when Francois was not looking. Things began to change on the team. The dogs did not respect or obey Spitz. The team became worse. There was always more trouble and Buck was responsible for it.  Francois was worried about Buck and Spitz. \"Those dogs will have a big fight one day,\" he thought. But the days passed without a big fight.  They arrived in Dawson City on a cold gray afternoon. There were many men and dogs in Dawson. The dogs did all kinds of work. Buck met some Southland dogs but most of the dogs were huskies.  At night there was the aurora borealis and the stars danced in the sky. Every night at nine o'clock, at twelve and at three all the dogs howled together. Buck liked to howl with them. It was a strange song of the night from thousands of years ago. It was the song of Buck's ancestors. It was about the difficulties of life.  They left Dawson after seven days. Perrault had some important letters. He wanted to return to Dyea as fast as possible. The dogs were rested and in good condition.  On the first day they traveled fifty miles and on the second day they were on the Yukon River near Pelly.  Francois had many problems with the team. The dogs did not work well together. Buck and Spitz hated each other. The other dogs did not respect Spitz. They were not afraid of him anymore. Francois often stopped the sled because the dogs were fighting. Francois knew that Buck caused the trouble. But Buck was very clever and Francois never saw him. Buck worked hard and he loved pulling the sled. One night after dinner Dub found a snow rabbit. In a moment all the dogs were running after it. Nearby there was a camp of the Northwest Police with fifty dogs. The fifty dogs started running after the rabbit too. The rabbit ran quickly on the soft snow, but it was more difficult for the dogs. Buck led the pack of sixty dogs and he was very happy. He was hunting his food and he felt alive. His splendid body moved forward in the white moonlight.  In the end Spitz caught the rabbit. He broke its back with his teeth and threw it in the air. Buck attacked Spitz. The dogs fell in the snow. Spitz bit Buck twice and then jumped away. He watched Buck carefully.  Buck knew this was the big fight. Either he or Spitz must die. Their ears went back and they growled angrily. They watched each other carefully and they circled slowly. The night was silent and everything was white in the moonlight. The other dogs ate the rabbit and then turned to watch the fight.  Spitz was a great fighter and he was intelligent. Buck tried to bite his throat but Spitz always defended himself. Every time Buck attacked, Spitz moved away and bit him on the side. Soon Buck was covered with blood. The fight was desperate.  But Buck had a good imagination. He fought with his instinct but also with his head. Buck attacked again but at the last minute he went under Spitz and bit his left leg. The bone broke and Spitz stood on three legs. Buck attacked three more times and then broke his right leg.  There was no hope for Spitz now. The silent circle of dogs moved closer to Spitz. They waited for the end. Then Buck attacked again. Spitz fell down on the snow. He disappeared under the circle of the other dogs. Buck stood and watched. He was the champion.    CHAPTER SIX  The New Lead  The next morning Francois could not find Spitz and he saw Buck covered with blood. \"What did I say? Buck is a great fighter!\" said Francois .  Perrault looked at the wounds on Buck's body and said, \"That Spitz fought like a devil.\"  \"And Buck fought like two devils,\" Francois said. \"Now we can travel faster. No more Spitz, no more trouble.\"  Francois started to harness the dogs. Buck walked to Spitz's old position. But Francois put Solleks in the lead position. Buck jumped angrily at Solleks.  \"Eh?\" Francois cried. \"Look at that Buck. He killed Spitz and now he wants his place. Go away, Buck.\" But Buck did not move.  Solleks was not happy. He was afraid of Buck. When Francois turned his back Buck pushed Solleks away.  Francois was angry. \"Now, I'll show you!\"  He went to get a heavy club. Buck remembered the man in the red sweater and moved away.  \"Come here, Buck,\" said Francois .  Buck did not obey. He wanted to be the lead-dog because he won the fight with Spitz.  The two men tried to put on the harness but he always moved away.  \"Come here, Buck,\" Perrault said. But Buck did not move.  It was late. Francois put Solleks in his old place. Perrault looked at his watch and he was angry. \"Put down the club, Francois !\"  Francois put down the club and Buck came to the front of the team. Francois put on the harness and the sled started moving.  Buck was an excellent lead-dog. He moved and thought quickly. The other dogs worked harder with Buck. The team traveled faster and faster.  \"Buck is the best dog! The very best!\" Francois said.  It was 45В°F below zero. Some days the dogs traveled sixty miles or more. After fourteen days they reached Skagway. The dog team was the center of attention. Then the two men received orders from the Canadian government. Francois put his arms around Buck and cried. Then the two men left and Buck did not see them again.  Another man took Buck and his team back to Dawson. The sled was very heavy because it carried mail for the gold miners. Buck did not like it, but he and the other dogs worked hard. It was not an interesting life. One day was like another.  They started before it was light. At night they camped arid this was the best part of the day. The dogs ate some fish and rested by the fire. Buck loved to rest by the fire. Sometimes he thought of Judge Miller's big house and his life there. He also thought about the man in the red sweater, the death of Curly and the big fight with Spitz. Other times he remembered his parents, his ancestors and the world of long ago.  The journey was hard and the mail was heavy. The dogs were tired and weak. They needed a long rest. But after only two days they were traveling again. The dogs and the men were unhappy.  Each night the men took care of their dogs. They looked at their feet but the dogs became weaker every day. Billee cried in his sleep and was very unfriendly. Dave was tired and ill. Something was wrong with him. When they stopped in the evening he lay down and did not stand up until morning. The men were worried about Dave. They did not understand his illness.  One day Dave could not pull the sled anymore. He cried sadly when Solleks took his place. The next morning Dave could not move. The driver took his pistol and walked away. The dogs heard a shot. The man came back quickly and the sled moved again. Buck and the other dogs knew what happened to Dave.  Thirty days after leaving Dawson City the team arrived in Skagway. The dogs were exhausted and thin. They needed a long rest. The men needed new, strong dogs to pull the sled.  They sold the old, tired dogs. Two American men called Hal and Charles bought Buck and his team. They bought other dogs too. Charles was forty years old and Hal was a young man. Charles' wife Mercedes was also with them. They knew nothing about life in the Northland and they made many mistakes.  They put too many things on their sled and tried to start. The dogs pulled hard for a few moments and then stopped. They could not move it because it was too heavy.  \"These lazy animals!\" cried Hal with a whip in his hand.  \"They're very weak,\" said a man. \"They need a rest.\"  \"Nonsense! They're very lazy,\" said Hal. \"Mush!\" he cried. \"Mush!\"  Hal whipped the dogs again and again.  Another man said, \"I don't care about you, but I care about the dogs. Break the ice around the sled, and then the dogs can pull.\"  Hal broke the ice and the sled moved forward.  The unhappy team moved on. Day after day Hal whipped the poor dogs. He gave them little food to eat. They were very tired and very hungry. They looked like skeletons. Dub hurt himself and was shot. Billee and some other dogs died.  \"Soon we will all die,\" Buck thought.    CHAPTER SEVEN  For the Love of a Man  Only five dogs reached John Thornton's camp: Joe, Pike, Solleks, Teek and Buck. They fell on the ground and could not move. They were almost dead.  It was nearly the end of winter and it was a beautiful day. John Thornton was repairing an axe.  \"Is it safe to cross the river here?\" asked Hal. \"Oh no, it's very dangerous. The ice is too thin,\" answered Thornton.  Hal looked at him and said, \"I don't believe you. We must go to Dawson.\"  He took his whip and cried, \"Come on, Buck! Let's go!\" Thornton knew these people were stupid and did not understand. The team did not move. After a while Solleks slowly stood up. Joe was crying but he stood up. Pike tried twice and fell down. The third time he stood up. Buck did not try. Hal whipped him but Buck did not move.  Thornton wanted to speak but he did not. Hal was furious and took the club. He hit Buck again and again. But Buck did not want to stand up. He had a strange feeling of doom. He saw thin ice in front of him. After so much suffering he did not feel the club.  Then suddenly Thornton jumped on Hal and threw him to the ground.  \"Don't hit that dog again or I'll kill you,\" Thornton cried.  \"It's my dog,\" said Hal. \"Go away or I'll hit you too. I'm going to Dawson.\"  Thornton stood between him and Buck. Hal took out his long knife. Thornton knocked it out of Hal's hand. Then Thornton picked it up and cut Buck's harness.  Hal did not want to fight. Buck was almost dead. A few minutes later Hal and the sled went along the river. Buck raised his head and saw Pike, Solleks, Joe and Teek pulling the sled. Thornton examined Buck's body. He was looking for broken bones. Buck was terribly thin and weak.  \"You have many wounds, but no broken bones,\" said Thornton.  Both dog and man watched the sled. It was crossing the ice in the middle of the river. Suddenly the back of the sled went down and the front went up. There was a lot of screaming. Then a big piece of ice broke and the dogs and the people disappeared.  John Thornton and Buck looked at each other.  \"You poor dog,\" said Thornton and Buck licked his hand.  John Thornton was ill all winter. His friends left him at White River while they went to Dawson. Thornton had a lot of food and he was comfortable. Now it was spring and he was better. During the warm spring days he and Buck sat by the river. Buck watched the water and listened to the birds. He needed the long rest. Slowly he became stronger and fatter.  John Thornton had two other dogs. Skeet was a small dog and she made friends with Buck. When Buck was ill she took care of him. She washed his cuts with her tongue. Nig was a big friendly dog. His eyes laughed. When Buck became stronger the three dogs played together. Thornton sometimes played with them.  The days passed happily. For the first time Buck learned to love. He and Judge Miller were very good friends, but Buck did not love him.  John Thornton saved Buck's life and he was the perfect master. He loved his dogs and took good care of them. The dogs were like his children. He always talked to Buck. He took Buck's head between his hands and shook it lovingly. He adored Thornton. When Thornton touched him or spoke to him he was wild with happiness. He sat near Thornton and looked at his face for hours. At first Buck followed Thornton everywhere. He did not want Thornton to leave like Francois and Perrault.  Buck was very happy with Thornton but he was a dog of the Northland. He dreamed of other animals and heard them calling him. It was the call of the wild. Sometimes Buck wanted to answer the call. He often went into the forest but he always returned to Thornton.  Buck was not interested in other men. When Thornton's friends Hans and Pete returned, Buck did not notice them. He knew they were Thornton's good friends and so he accepted them. Hans and Pete saw that Buck loved only Thornton and no one else. He was always happy to obey Thornton.  One day they were in Circle City. \"Black\" Burton was a bad and cruel man. He was in a saloon and he was fighting with another man. Thornton tried to stop them. Buck sat in a corner and watched. Burton hit Thornton and he almost fell. There was a loud growl and Buck jumped into the air at Burton's throat. The man put up his arm and saved his life. Then he fell to the ground with Buck on top of him. Buck bit into his throat. Some people pulled Buck off the man. A doctor arrived and examined Burton's throat.  \"The dog attacked only because Thornton was in danger,\" someone said. From that day Buck's name became famous all over the Northland.  In the fall of that year Buck saved Thornton's life another time. The three men were going down the river. Thornton was in the boat and Hans and Pete were on the river bank. They were holding the boat with a rope. Buck was on the bank and watched his master. Soon they came to a dangerous part of the river. The boat was going too fast because the current was strong. Hans pulled the rope to stop the boat, but it turned over. Thornton fell into the water.  Buck jumped in immediately and swam to his master. Thornton took Buck's tail and Buck swam bravely towards the river bank. But they moved slowly because the river pushed them to the rocks.  \"We can't get to the river bank because the current is too strong,\" said Thornton. He held onto a rock and let go of Buck's tail. Then he cried, \"Go, Buck! Go!\"  Buck obeyed and swam to the river bank. Hans and Pete pulled him out of the river.  \"We must work fast to save Thornton. He's in great danger!\" said Pete.  They tied a rope around Buck and he jumped into the river again. The river carried him past Thornton but he finally reached him. Thornton held on to Buck, and Hans and Pete pulled the rope very hard. Thornton and Buck disappeared under the water.  When Hans and Pete pulled them out they both seemed dead. But they slowly opened their eyes. Thornton examined Buck's body and found three broken bones.  \"We must camp here until Buck is better,\" said Thornton.    CHAPTER EIGHT  The Winner  At Dawson that winter Buck did something that made him very famous in the Northland. Thornton, Hans and Pete wanted to go to the east to look for gold. But they needed money.  One day they were at the Eldorado Saloon.  \"My dog can pull a sled with five hundred pounds on it' said one man.  \"Well, my dog can pull six hundred pounds' said another man.  \"Really? Well, my dog can pull seven hundred pounds,\" said a third man called Matthewson.  \"That's nothing,\" said Thornton. \"Buck can pull a thousand pounds.\"  \"Can he move the sled when it's frozen to the ice and then pull it a hundred yards?\" asked Matthewson.  \"Yes, he can,\" said Thornton.  \"Well,\" said Matthewson. \"I've got a thousand dollars here, and I say he can't.\" He took a bag of gold and put it on the table.  Nobody spoke. Thornton thought, \"I know Buck is strong, but is he really so strong?\"  The men at the saloon looked at him silently and waited. Thornton did not have a thousand dollars, and his friends did not either.  \"I've got a sled outside with a thousand pounds on it,\" Matthewson said. \"Do you want to try?\"  Thornton did not know what to say. He looked at all the men. Then he saw his old friend Jim O'Brien.  \"Can you lend me a thousand dollars, Jim?\" Thornton said softly.  \"Sure,\" said O'Brien. \"But I don't think your dog can do it.\"  Everyone went into the street. A lot of men stood around Matthewson's sled.  The sled was frozen to the ice because it was terribly cold.  Matthewson was sure Buck could not win and said, \"I'm paying another four hundred dollars! What about you?\"  Thornton, Hans and Pete talked together. They had only two hundred dollars and they added them to the thousand dollars.  Buck felt the excitement in the air. He knew he must do something great for Thornton. Buck was in perfect condition. He was a splendid dog.  Thornton sat down on the snow next to Buck. He held Buck's head in his hands and spoke softly in his ear.  \"If you love me, Buck. If you love me.\"  Buck understood. He took Thornton's hand between his teeth and then let go. He often did this as a sign of his love.  Everyone was silent. Thornton stood up and said, \"Ready, Buck.\"  Buck pulled on the harness. \"Right!\" cried Thornton.  Buck pulled to the right and stopped suddenly. \"Now, left!\" cried Thornton.  Buck pulled to the left. The ice was breaking.  \"Now, MUSH!\"  Buck started to pull. His strong body pulled harder and harder. The sled moved a little. Suddenly it started to go forward on the snow. Buck pulled it for one hundred yards. He was the winner! The men shouted and threw their hats in the air.  Thornton was on the snow with Buck. He took his head and shook it. He was crying with happiness. Buck had Thornton's hand between his teeth.  In five minutes Buck made one thousand six hundred dollars for Thornton and his friends. With this money they could travel to the east to look for a lost gold mine. No one knew where it was. It was a mystery.  The three men with Buck and six other dogs started to go east. They traveled up the Stewart River and into the Mackenzie Mountains.  Thornton was not afraid of the wild. He hunted his food during the day. Buck was very happy. He loved hunting, fishing and traveling.  They camped in different places and looked for gold. In the summer they built small boats and crossed mountain lakes and went down rivers. The months passed and they continued to travel in the unknown country. In the winter they found an old cabin, but they did not find the gold mine.  Then in the spring they found a stream with gold in it. It looked like yellow butter. Every day the men worked hard and found lots of gold. They put it in many big bags. Each bag had fifty pounds of gold.  The dogs did nothing except watch the men and eat. Buck spent many hours sitting by the fire and dreaming. Sometimes during the day he heard a call from the forest. He listened and ran off into the forest. He loved running under the tall trees and looking at the birds.  One night he woke up suddenly. He heard the call again. It came from the forest and it was a long howl. He ran into the forest and followed the sound. He came to an open space in the trees and saw a wolf. He was sitting and his nose was up in the air. He was looking at the sky.  Buck walked towards him slowly and silently. The wolf stopped howling and ran away. Buck followed him. After some time the wolf stopped and growled at Buck. He was afraid because Buck was much bigger. But Buck did not want to fight. He wanted to make friends with the wolf. The wolf understood and they touched noses. They became friends and played together. They ran for hours through the forest and under the open sky. Old memories came back to Buck. He was very happy.  They stopped by a stream to drink and Buck remembered John Thornton. The wolf wanted Buck to follow him. But Buck turned and slowly went back. The wolf followed him for a while. Then he sat down and howled. It was a sad howl.  Thornton was eating dinner when Buck returned. He jumped all over Thornton and licked his face.  For two days and nights Buck never left camp. He followed Thornton everywhere. But soon Buck heard the call again. He thought about his wild brother and the forest.  Buck began to sleep out at night. He stayed away from camp for three or four days. Once he stayed away for a week. He looked for his wild brother but could not find him. He fished in the streams and killed animals for food.  Every part of his body was alive and healthy. He was stronger and faster than other dogs. There was so much energy in Buck.  One day Buck was going to the forest and Thornton said, \"What a fantastic dog!\" Hans and Pete agreed.    Chapter nine  The Call of the Wild  In the fall many moose came to the valley because it was warmer. Buck wanted to hunt a big moose. The biggest moose was six feet tall and had enormous antlers. He was much bigger and stronger than Buck. When he saw Buck he growled angrily.  Buck followed the moose for many hours. He was clever and thought, \" must separate him from his group.\"  It was not easy, but by evening the moose was away from his group. Buck started to attack him.  Wild animals are patient. They do not hurry. They wait for the right moment and then they attack. Buck knew how to wait. For four days Buck attacked and jumped away. Then he danced in front of the big moose. He never left him alone. The moose could not eat, drink, sleep or rest. He became very tired and very weak and stopped for long periods so Buck ate, drank and rested.  At the end of the fourth day Buck killed the big moose. For a day and a night he stayed by the dead moose and ate and slept. When he was rested and strong, he decided to return to John Thornton.  When Buck was five miles from camp he smelled something strange, something terrible. He started running fast. The forest was silent, there were no birds and no small animals.  Near some trees he found the dead body of Nig. He had an arrow in his body. He found another sled dog with an arrow in his neck.  Near the camp Buck heard voices singing. Then he found Hans' body with arrows in his back.  A wild, terrible anger grew in Buck. He could not control his anger. He saw the Yeehat Indians dancing at Thornton's camp and he suddenly attacked them. He wanted to destroy them. Buck was faster than the wind. He jumped at the Indians with all his strength and anger. He cut the throat of two Indians with his sharp teeth. Nothing could stop him and he killed many Yeehats. He was like a devil. The Indians escaped into the forest but Buck followed them.  When Buck returned to the camp he found Pete's body. He followed Thornton's smell to a pool. Buck knew Thornton's body was in the pool. He stayed by the pool all day. He knew John Thornton was dead.  Now he was very sad and alone. When he looked at the dead Yeehats he was proud of himself.  That night there was a full moon. Buck heard the sounds of the forest. They became louder. It was the call of the wild and he was ready to obey. John Thornton was dead. He was completely free.  A wolf pack entered Buck's valley. He watched them silently. They were afraid because Buck was so big. Then one wolf jumped at Buck and he attacked and broke the wolf's neck. Three other wolves jumped at him but he attacked them.  Finally all the wolf pack attacked Buck. He jumped \"at them with his great strength and intelligence. They could not stop him. After half an hour the pack went away. They were very tired. One wolf was friendly and went close to Buck. Buck remembered him, it was his wild brother. They touched noses.  Other wolves came to make friends. An old wolf sat down, looked at the moon and howled. The others sat down and howled too. Buck did the same.  Soon the wolves were all around Buck and smelled him. Then they ran into the forest and Buck ran with them. His wild brother ran by his side.  Perhaps this is the end of Buck's story. But after a few years the Yeehat Indians saw that some wolves had brown in their gray coats. They also saw a \"Ghost Dog\" at the front of the wolf pack.  When the Yeehats follow the moose they do not enter a certain valley. In the summer there is a visitor in that valley: a big, golden-brown wolf. He is bigger than any other wolf. He goes to a yellow stream, stops there and then howls.  But he is not always alone. He is the leader of the wolf pack. He runs in the moonlight and sings the song of the pack.      - THE END -  Hope you have enjoyed the reading!  Come back to http://english-e-books.net/ to find more fascinating and exciting stories!      \n"
     ]
    }
   ],
   "source": [
    "print(text_clear)"
   ]
  },
  {
   "cell_type": "markdown",
   "metadata": {},
   "source": [
    "# Part-Of-Speech Tagging"
   ]
  },
  {
   "cell_type": "code",
   "execution_count": 6,
   "metadata": {
    "collapsed": true
   },
   "outputs": [],
   "source": [
    "def POS_tagging(text):\n",
    "    tokens = nltk.word_tokenize(text)\n",
    "    for i in range(len(tokens)):\n",
    "        if tokens[i].isupper():\n",
    "            tokens[i] = tokens[i].lower()\n",
    "    tagged = nltk.pos_tag(tokens)\n",
    "    return tagged"
   ]
  },
  {
   "cell_type": "markdown",
   "metadata": {},
   "source": [
    "# Named Entity Recognition\n",
    "* NER with entity classification (using nltk.ne_chunk)"
   ]
  },
  {
   "cell_type": "code",
   "execution_count": 7,
   "metadata": {
    "collapsed": true
   },
   "outputs": [],
   "source": [
    "def extractEntities(ne_chunked):\n",
    "    data = {}\n",
    "    for entity in ne_chunked:\n",
    "        if isinstance(entity, nltk.tree.Tree):\n",
    "            text = \" \".join([word for word, tag in entity.leaves()])\n",
    "            ent = entity.label()\n",
    "            data[text] = ent\n",
    "        else:\n",
    "            continue\n",
    "    return data"
   ]
  },
  {
   "cell_type": "markdown",
   "metadata": {},
   "source": [
    "* NER with custom patterns"
   ]
  },
  {
   "cell_type": "code",
   "execution_count": 8,
   "metadata": {
    "collapsed": true
   },
   "outputs": [],
   "source": [
    "# in - TOKENS! and grammar\n",
    "def parser(tagged_tokens, grammar):\n",
    "    entity_parse = []\n",
    "    grammar =  grammar\n",
    "    cp = nltk.RegexpParser(grammar)\n",
    "    chunked = cp.parse(tagged_tokens)\n",
    "    for entity in chunked:\n",
    "        for subtree in chunked.subtrees(filter=lambda t: t.label() == 'NP'):\n",
    "            text = \" \".join([word for word, tag in subtree.leaves()])\n",
    "            entity_parse.append(text)\n",
    "        return entity_parse"
   ]
  },
  {
   "cell_type": "markdown",
   "metadata": {},
   "source": [
    "# Wikipedia package.\n",
    "* using the first sentences (before comma) and detect pattern"
   ]
  },
  {
   "cell_type": "code",
   "execution_count": 9,
   "metadata": {
    "collapsed": true
   },
   "outputs": [],
   "source": [
    "def wiki_search(entity_parse):\n",
    "    multiple_entity = []\n",
    "    for ent in entity_parse:\n",
    "        try:\n",
    "            search = wikipedia.summary(ent, sentences=1)\n",
    "            search = search[:search.find(',')]\n",
    "            search_tokens = nltk.pos_tag(nltk.word_tokenize(search))\n",
    "            gram =  r\"\"\"NP: {<VBZ><DT>?<JJ>*<NN>*}\"\"\" \n",
    "            pars_seach = parser(search_tokens, gram)\n",
    "            if pars_seach:\n",
    "                print(ent, ' - ', pars_seach[0], '\\n')\n",
    "        except wikipedia.exceptions.DisambiguationError as e:\n",
    "            multiple_entity.append(ent)   \n",
    "        except wikipedia.exceptions.PageError:\n",
    "            #if a \"PageError\" was raised, ignore it and continue to next link\n",
    "            continue\n",
    "        except wikipedia.exceptions.HTTPTimeoutError as e:\n",
    "            continue\n",
    "    print('Words that have multiple meanings:')\n",
    "    for multi_ent in multiple_entity:\n",
    "        try:\n",
    "            search = wikipedia.summary(multi_ent)\n",
    "        except wikipedia.exceptions.DisambiguationError as e:\n",
    "            print(multi_ent, ':')\n",
    "            try:\n",
    "                print(e)\n",
    "            except:\n",
    "                continue\n",
    "            print('\\n')\n",
    "        except wikipedia.exceptions.WikipediaException as e:\n",
    "            continue\n",
    "        except wikipedia.exceptions.PageError as e:\n",
    "            continue"
   ]
  },
  {
   "cell_type": "code",
   "execution_count": 10,
   "metadata": {
    "collapsed": true
   },
   "outputs": [],
   "source": [
    "\n",
    "def entity_print(entity, N, all_entity):\n",
    "    d = dict((x,entity.count(x)) for x in set(entity))\n",
    "    s = sorted(d.items(), key=lambda x: x[1], reverse=True)\n",
    "    print(N, \" most common entities\")\n",
    "    for i in range(N):\n",
    "        print(s[i][0] + \": \" + str(s[i][1]))\n",
    "    if all_entity:\n",
    "        print('\\n', \"All entities: \\n\")\n",
    "        entity_parse = sorted(set(entity))\n",
    "        for ent in entity_parse:\n",
    "            print('\\n', ent)\n",
    "    \n",
    "    "
   ]
  },
  {
   "cell_type": "markdown",
   "metadata": {},
   "source": [
    "# Composing all tasks in files"
   ]
  },
  {
   "cell_type": "code",
   "execution_count": 12,
   "metadata": {},
   "outputs": [],
   "source": [
    "# save default stdout\n",
    "out_old = sys.stdout\n",
    "tagged = POS_tagging(text_clear)\n",
    "N = 10\n",
    "#sys.stdout = out_old"
   ]
  },
  {
   "cell_type": "code",
   "execution_count": 13,
   "metadata": {
    "collapsed": true
   },
   "outputs": [],
   "source": [
    "sys.stdout = open(\"POS_tagging.txt\", \"w+\")\n",
    "print('Part-Of-Speech Tagging', '\\n')\n",
    "ignore = {'.',',',\"'\",'``',':', \"''\"}\n",
    "POS_cout = collections.Counter(row[0] for row in tagged if row[0] not in ignore)\n",
    "POS = POS_cout.most_common() \n",
    "print(N, ' most common words:\\n')\n",
    "for i in range(N):\n",
    "        print(POS[i][0] + \": \" + str(POS[i][1]))\n",
    "        \n",
    "POS_cout_part_of_sp = collections.Counter(row[1] for row in tagged if row[1] not in ignore)\n",
    "POS_part = POS_cout_part_of_sp.most_common()\n",
    "print('\\n', N, ' most common parts of speech: \\n')\n",
    "for i in range(N):\n",
    "        print(str(POS_part[i][0]) + \": \" + str(POS_part[i][1]))\n",
    "print(\"\\n All: \\n\")\n",
    "for ent in tagged:\n",
    "    print(ent, '\\n')"
   ]
  },
  {
   "cell_type": "code",
   "execution_count": 14,
   "metadata": {
    "collapsed": true
   },
   "outputs": [],
   "source": [
    "sys.stdout = open(\"NER_classification_ne_chank.txt\", \"w+\")\n",
    "print('NER with entity classification (using nltk.ne_chunk)', '\\n\\n')\n",
    "ne_chunked = nltk.ne_chunk(tagged, binary=False)\n",
    "ne_chunked_entity = extractEntities(ne_chunked)\n",
    "for nce in ne_chunked_entity:\n",
    "    print('\\n', nce, \": \", ne_chunked_entity[nce])"
   ]
  },
  {
   "cell_type": "code",
   "execution_count": 15,
   "metadata": {
    "collapsed": true
   },
   "outputs": [],
   "source": [
    "sys.stdout = open(\"NER_with_custom_patterns(Adj+Noun).txt\", \"w+\")\n",
    "print('NER with custom patterns. RegexpParser. ')\n",
    "print('entity matched with an adjective (optional) and proper noun (singular/plural)')\n",
    "print('The rule: “NP: {<JJ>* <NN|NNS>}”', '\\n\\n')\n",
    "grammar = \"NP: {<JJ>* <NN|NNS>}\"\n",
    "entity_parse = parser(tagged, grammar)\n",
    "entity_print(entity_parse, 10, True)"
   ]
  },
  {
   "cell_type": "code",
   "execution_count": 16,
   "metadata": {
    "collapsed": true
   },
   "outputs": [],
   "source": [
    "sys.stdout = open(\"NER_with_custom_patterns(V_to_V).txt\", \"w+\")\n",
    "print('NER with custom patterns. RegexpParser. ')\n",
    "print('Exploring Text Corpora. V to V')\n",
    "print('The rule: \"NP: {<V.*> <TO> <V.*>}”', '\\n\\n')\n",
    "grammar = \"NP: {<V.*> <TO> <V.*>}\"\n",
    "entity_parse = parser(tagged, grammar)\n",
    "entity_print(entity_parse, 10, True)"
   ]
  },
  {
   "cell_type": "code",
   "execution_count": 22,
   "metadata": {},
   "outputs": [
    {
     "name": "stderr",
     "output_type": "stream",
     "text": [
      "D:\\Anaconda\\lib\\site-packages\\bs4\\__init__.py:181: UserWarning: No parser was explicitly specified, so I'm using the best available HTML parser for this system (\"lxml\"). This usually isn't a problem, but if you run this code on another system, or in a different virtual environment, it may use a different parser and behave differently.\n",
      "\n",
      "The code that caused this warning is on line 193 of the file D:\\Anaconda\\lib\\runpy.py. To get rid of this warning, change code that looks like this:\n",
      "\n",
      " BeautifulSoup(YOUR_MARKUP})\n",
      "\n",
      "to this:\n",
      "\n",
      " BeautifulSoup(YOUR_MARKUP, \"lxml\")\n",
      "\n",
      "  markup_type=markup_type))\n"
     ]
    }
   ],
   "source": [
    "sys.stdout = open(\"Wiki_search_with_ne_chunk\", \"w+\",encoding='utf8')\n",
    "print('detected entity using nltk.ne_chunk and wiki search')\n",
    "print('Words that have multiple meanings at the end', '\\n\\n')\n",
    "entity_name = []\n",
    "ne_chunked = nltk.ne_chunk(tagged, binary=True)\n",
    "ne_chunked_entity = extractEntities(ne_chunked)\n",
    "for nce in ne_chunked_entity:\n",
    "    entity_name.append(nce)\n",
    "wiki_search(entity_name)"
   ]
  },
  {
   "cell_type": "code",
   "execution_count": 21,
   "metadata": {},
   "outputs": [
    {
     "name": "stderr",
     "output_type": "stream",
     "text": [
      "D:\\Anaconda\\lib\\site-packages\\bs4\\__init__.py:181: UserWarning: No parser was explicitly specified, so I'm using the best available HTML parser for this system (\"lxml\"). This usually isn't a problem, but if you run this code on another system, or in a different virtual environment, it may use a different parser and behave differently.\n",
      "\n",
      "The code that caused this warning is on line 193 of the file D:\\Anaconda\\lib\\runpy.py. To get rid of this warning, change code that looks like this:\n",
      "\n",
      " BeautifulSoup(YOUR_MARKUP})\n",
      "\n",
      "to this:\n",
      "\n",
      " BeautifulSoup(YOUR_MARKUP, \"lxml\")\n",
      "\n",
      "  markup_type=markup_type))\n"
     ]
    }
   ],
   "source": [
    "sys.stdout = open(\"Wiki_search_with_pattern.txt\", \"w+\", encoding='utf8')\n",
    "print('detected entity using pattern \"NP: {<NNP>*}\" and wiki search')\n",
    "print('Words that have multiple meanings at the end', '\\n\\n')\n",
    "grammar = \"NP: {<NNP>*}\"\n",
    "entity_parse = parser(tagged, grammar)\n",
    "entity_print(entity_parse, 10, False)\n",
    "entity_parse = sorted(set(entity_parse))\n",
    "wiki_search(entity_parse)"
   ]
  },
  {
   "cell_type": "code",
   "execution_count": 23,
   "metadata": {
    "collapsed": true
   },
   "outputs": [],
   "source": [
    "sys.stdout = out_old"
   ]
  },
  {
   "cell_type": "code",
   "execution_count": null,
   "metadata": {
    "collapsed": true
   },
   "outputs": [],
   "source": []
  }
 ],
 "metadata": {
  "kernelspec": {
   "display_name": "Python 3",
   "language": "python",
   "name": "python3"
  },
  "language_info": {
   "codemirror_mode": {
    "name": "ipython",
    "version": 3
   },
   "file_extension": ".py",
   "mimetype": "text/x-python",
   "name": "python",
   "nbconvert_exporter": "python",
   "pygments_lexer": "ipython3",
   "version": "3.6.2"
  }
 },
 "nbformat": 4,
 "nbformat_minor": 2
}
